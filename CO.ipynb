{
 "cells": [
  {
   "cell_type": "code",
   "execution_count": 1,
   "id": "9af77eb0",
   "metadata": {},
   "outputs": [],
   "source": [
    "import numpy as np\n",
    "import pandas as pd\n",
    "import matplotlib.pyplot as plt\n",
    "import seaborn as sns"
   ]
  },
  {
   "cell_type": "code",
   "execution_count": 2,
   "id": "f22890fb",
   "metadata": {},
   "outputs": [],
   "source": [
    "#loading the data using pandas\n",
    "df=pd.read_csv(\"data.csv\")"
   ]
  },
  {
   "cell_type": "code",
   "execution_count": 3,
   "id": "c7c8525a",
   "metadata": {},
   "outputs": [
    {
     "data": {
      "text/html": [
       "<div>\n",
       "<style scoped>\n",
       "    .dataframe tbody tr th:only-of-type {\n",
       "        vertical-align: middle;\n",
       "    }\n",
       "\n",
       "    .dataframe tbody tr th {\n",
       "        vertical-align: top;\n",
       "    }\n",
       "\n",
       "    .dataframe thead th {\n",
       "        text-align: right;\n",
       "    }\n",
       "</style>\n",
       "<table border=\"1\" class=\"dataframe\">\n",
       "  <thead>\n",
       "    <tr style=\"text-align: right;\">\n",
       "      <th></th>\n",
       "      <th>timestamp</th>\n",
       "      <th>temp</th>\n",
       "      <th>humidity</th>\n",
       "      <th>ppm</th>\n",
       "    </tr>\n",
       "  </thead>\n",
       "  <tbody>\n",
       "    <tr>\n",
       "      <th>0</th>\n",
       "      <td>2023-06-09T10:46:48+05:30</td>\n",
       "      <td>38</td>\n",
       "      <td>38</td>\n",
       "      <td>24.01</td>\n",
       "    </tr>\n",
       "    <tr>\n",
       "      <th>1</th>\n",
       "      <td>2023-06-09T10:47:49+05:30</td>\n",
       "      <td>38</td>\n",
       "      <td>36</td>\n",
       "      <td>22.39</td>\n",
       "    </tr>\n",
       "    <tr>\n",
       "      <th>2</th>\n",
       "      <td>2023-06-09T10:48:49+05:30</td>\n",
       "      <td>38</td>\n",
       "      <td>36</td>\n",
       "      <td>21.62</td>\n",
       "    </tr>\n",
       "    <tr>\n",
       "      <th>3</th>\n",
       "      <td>2023-06-09T10:49:50+05:30</td>\n",
       "      <td>38</td>\n",
       "      <td>36</td>\n",
       "      <td>21.62</td>\n",
       "    </tr>\n",
       "    <tr>\n",
       "      <th>4</th>\n",
       "      <td>2023-06-09T10:50:50+05:30</td>\n",
       "      <td>38</td>\n",
       "      <td>36</td>\n",
       "      <td>21.62</td>\n",
       "    </tr>\n",
       "    <tr>\n",
       "      <th>...</th>\n",
       "      <td>...</td>\n",
       "      <td>...</td>\n",
       "      <td>...</td>\n",
       "      <td>...</td>\n",
       "    </tr>\n",
       "    <tr>\n",
       "      <th>10303</th>\n",
       "      <td>2023-06-17T02:51:13+05:30</td>\n",
       "      <td>28</td>\n",
       "      <td>32</td>\n",
       "      <td>25.71</td>\n",
       "    </tr>\n",
       "    <tr>\n",
       "      <th>10304</th>\n",
       "      <td>2023-06-17T02:52:13+05:30</td>\n",
       "      <td>28</td>\n",
       "      <td>32</td>\n",
       "      <td>25.71</td>\n",
       "    </tr>\n",
       "    <tr>\n",
       "      <th>10305</th>\n",
       "      <td>2023-06-17T02:53:14+05:30</td>\n",
       "      <td>28</td>\n",
       "      <td>32</td>\n",
       "      <td>25.71</td>\n",
       "    </tr>\n",
       "    <tr>\n",
       "      <th>10306</th>\n",
       "      <td>2023-06-17T02:54:14+05:30</td>\n",
       "      <td>28</td>\n",
       "      <td>32</td>\n",
       "      <td>28.43</td>\n",
       "    </tr>\n",
       "    <tr>\n",
       "      <th>10307</th>\n",
       "      <td>2023-06-17T02:55:15+05:30</td>\n",
       "      <td>28</td>\n",
       "      <td>32</td>\n",
       "      <td>30.36</td>\n",
       "    </tr>\n",
       "  </tbody>\n",
       "</table>\n",
       "<p>10308 rows × 4 columns</p>\n",
       "</div>"
      ],
      "text/plain": [
       "                       timestamp  temp  humidity    ppm\n",
       "0      2023-06-09T10:46:48+05:30    38        38  24.01\n",
       "1      2023-06-09T10:47:49+05:30    38        36  22.39\n",
       "2      2023-06-09T10:48:49+05:30    38        36  21.62\n",
       "3      2023-06-09T10:49:50+05:30    38        36  21.62\n",
       "4      2023-06-09T10:50:50+05:30    38        36  21.62\n",
       "...                          ...   ...       ...    ...\n",
       "10303  2023-06-17T02:51:13+05:30    28        32  25.71\n",
       "10304  2023-06-17T02:52:13+05:30    28        32  25.71\n",
       "10305  2023-06-17T02:53:14+05:30    28        32  25.71\n",
       "10306  2023-06-17T02:54:14+05:30    28        32  28.43\n",
       "10307  2023-06-17T02:55:15+05:30    28        32  30.36\n",
       "\n",
       "[10308 rows x 4 columns]"
      ]
     },
     "execution_count": 3,
     "metadata": {},
     "output_type": "execute_result"
    }
   ],
   "source": [
    "#checking the loaded data\n",
    "df"
   ]
  },
  {
   "cell_type": "code",
   "execution_count": 4,
   "id": "bcceffe6",
   "metadata": {},
   "outputs": [
    {
     "data": {
      "text/plain": [
       "(10308, 4)"
      ]
     },
     "execution_count": 4,
     "metadata": {},
     "output_type": "execute_result"
    }
   ],
   "source": [
    "#seeing the shape of the data\n",
    "df.shape"
   ]
  },
  {
   "cell_type": "code",
   "execution_count": 5,
   "id": "13caad09",
   "metadata": {},
   "outputs": [
    {
     "name": "stdout",
     "output_type": "stream",
     "text": [
      "<class 'pandas.core.frame.DataFrame'>\n",
      "RangeIndex: 10308 entries, 0 to 10307\n",
      "Data columns (total 4 columns):\n",
      " #   Column     Non-Null Count  Dtype  \n",
      "---  ------     --------------  -----  \n",
      " 0   timestamp  10308 non-null  object \n",
      " 1   temp       10308 non-null  int64  \n",
      " 2   humidity   10308 non-null  int64  \n",
      " 3   ppm        10308 non-null  float64\n",
      "dtypes: float64(1), int64(2), object(1)\n",
      "memory usage: 322.2+ KB\n"
     ]
    }
   ],
   "source": [
    "# seeing the info of the data where we can see the data datatype of each column and count of non null values in each column\n",
    "df.info()"
   ]
  },
  {
   "cell_type": "code",
   "execution_count": 6,
   "id": "f899d0cf",
   "metadata": {},
   "outputs": [
    {
     "data": {
      "text/html": [
       "<div>\n",
       "<style scoped>\n",
       "    .dataframe tbody tr th:only-of-type {\n",
       "        vertical-align: middle;\n",
       "    }\n",
       "\n",
       "    .dataframe tbody tr th {\n",
       "        vertical-align: top;\n",
       "    }\n",
       "\n",
       "    .dataframe thead th {\n",
       "        text-align: right;\n",
       "    }\n",
       "</style>\n",
       "<table border=\"1\" class=\"dataframe\">\n",
       "  <thead>\n",
       "    <tr style=\"text-align: right;\">\n",
       "      <th></th>\n",
       "      <th>temp</th>\n",
       "      <th>humidity</th>\n",
       "      <th>ppm</th>\n",
       "    </tr>\n",
       "  </thead>\n",
       "  <tbody>\n",
       "    <tr>\n",
       "      <th>count</th>\n",
       "      <td>10308.000000</td>\n",
       "      <td>10308.000000</td>\n",
       "      <td>10308.000000</td>\n",
       "    </tr>\n",
       "    <tr>\n",
       "      <th>mean</th>\n",
       "      <td>38.297051</td>\n",
       "      <td>32.617288</td>\n",
       "      <td>39.145906</td>\n",
       "    </tr>\n",
       "    <tr>\n",
       "      <th>std</th>\n",
       "      <td>4.053829</td>\n",
       "      <td>5.793688</td>\n",
       "      <td>18.363310</td>\n",
       "    </tr>\n",
       "    <tr>\n",
       "      <th>min</th>\n",
       "      <td>28.000000</td>\n",
       "      <td>21.000000</td>\n",
       "      <td>11.270000</td>\n",
       "    </tr>\n",
       "    <tr>\n",
       "      <th>25%</th>\n",
       "      <td>35.000000</td>\n",
       "      <td>29.000000</td>\n",
       "      <td>24.850000</td>\n",
       "    </tr>\n",
       "    <tr>\n",
       "      <th>50%</th>\n",
       "      <td>39.000000</td>\n",
       "      <td>32.000000</td>\n",
       "      <td>34.520000</td>\n",
       "    </tr>\n",
       "    <tr>\n",
       "      <th>75%</th>\n",
       "      <td>41.000000</td>\n",
       "      <td>36.000000</td>\n",
       "      <td>49.670000</td>\n",
       "    </tr>\n",
       "    <tr>\n",
       "      <th>max</th>\n",
       "      <td>45.000000</td>\n",
       "      <td>55.000000</td>\n",
       "      <td>328.600000</td>\n",
       "    </tr>\n",
       "  </tbody>\n",
       "</table>\n",
       "</div>"
      ],
      "text/plain": [
       "               temp      humidity           ppm\n",
       "count  10308.000000  10308.000000  10308.000000\n",
       "mean      38.297051     32.617288     39.145906\n",
       "std        4.053829      5.793688     18.363310\n",
       "min       28.000000     21.000000     11.270000\n",
       "25%       35.000000     29.000000     24.850000\n",
       "50%       39.000000     32.000000     34.520000\n",
       "75%       41.000000     36.000000     49.670000\n",
       "max       45.000000     55.000000    328.600000"
      ]
     },
     "execution_count": 6,
     "metadata": {},
     "output_type": "execute_result"
    }
   ],
   "source": [
    "#describing the data to see the descriptive statistics of the numerical data that we have\n",
    "df.describe()"
   ]
  },
  {
   "cell_type": "code",
   "execution_count": 7,
   "id": "df617d03",
   "metadata": {
    "scrolled": true
   },
   "outputs": [
    {
     "data": {
      "text/html": [
       "<div>\n",
       "<style scoped>\n",
       "    .dataframe tbody tr th:only-of-type {\n",
       "        vertical-align: middle;\n",
       "    }\n",
       "\n",
       "    .dataframe tbody tr th {\n",
       "        vertical-align: top;\n",
       "    }\n",
       "\n",
       "    .dataframe thead th {\n",
       "        text-align: right;\n",
       "    }\n",
       "</style>\n",
       "<table border=\"1\" class=\"dataframe\">\n",
       "  <thead>\n",
       "    <tr style=\"text-align: right;\">\n",
       "      <th></th>\n",
       "      <th>temp</th>\n",
       "      <th>humidity</th>\n",
       "      <th>ppm</th>\n",
       "    </tr>\n",
       "  </thead>\n",
       "  <tbody>\n",
       "    <tr>\n",
       "      <th>temp</th>\n",
       "      <td>1.000000</td>\n",
       "      <td>-0.291916</td>\n",
       "      <td>0.239798</td>\n",
       "    </tr>\n",
       "    <tr>\n",
       "      <th>humidity</th>\n",
       "      <td>-0.291916</td>\n",
       "      <td>1.000000</td>\n",
       "      <td>0.012272</td>\n",
       "    </tr>\n",
       "    <tr>\n",
       "      <th>ppm</th>\n",
       "      <td>0.239798</td>\n",
       "      <td>0.012272</td>\n",
       "      <td>1.000000</td>\n",
       "    </tr>\n",
       "  </tbody>\n",
       "</table>\n",
       "</div>"
      ],
      "text/plain": [
       "              temp  humidity       ppm\n",
       "temp      1.000000 -0.291916  0.239798\n",
       "humidity -0.291916  1.000000  0.012272\n",
       "ppm       0.239798  0.012272  1.000000"
      ]
     },
     "execution_count": 7,
     "metadata": {},
     "output_type": "execute_result"
    }
   ],
   "source": [
    "#checking the correlation for all the columns\n",
    "df.corr()"
   ]
  },
  {
   "cell_type": "code",
   "execution_count": 8,
   "id": "bd9c2a59",
   "metadata": {},
   "outputs": [
    {
     "data": {
      "text/plain": [
       "<AxesSubplot:>"
      ]
     },
     "execution_count": 8,
     "metadata": {},
     "output_type": "execute_result"
    },
    {
     "data": {
      "image/png": "[encoded data removed]",
      "text/plain": [
       "<Figure size 1080x720 with 2 Axes>"
      ]
     },
     "metadata": {
      "needs_background": "light"
     },
     "output_type": "display_data"
    }
   ],
   "source": [
    "#visualizing the correlation using heatmap to understnd better\n",
    "correlation=df.corr()\n",
    "\n",
    "plt.figure(figsize=(15,10))\n",
    "sns.heatmap(correlation,annot=True,cmap='Wistia')"
   ]
  },
  {
   "cell_type": "code",
   "execution_count": 9,
   "id": "500ef00b",
   "metadata": {},
   "outputs": [],
   "source": [
    "#formatting the timestamp column to date time column\n",
    "df.timestamp=pd.to_datetime(df[\"timestamp\"])"
   ]
  },
  {
   "cell_type": "code",
   "execution_count": 10,
   "id": "5c1bab37",
   "metadata": {},
   "outputs": [],
   "source": [
    "#splitting formatted timestamp columm in to in to four different columns it makes easy to for training\n",
    "df[\"day\"]=df[\"timestamp\"].dt.dayofweek\n",
    "df[\"month\"]=df[\"timestamp\"].dt.month\n",
    "df[\"year\"]=df[\"timestamp\"].dt.year\n",
    "df[\"time_from_midnight\"]=df[\"timestamp\"].dt.hour*60+df[\"timestamp\"].dt.minute"
   ]
  },
  {
   "cell_type": "code",
   "execution_count": 11,
   "id": "e4d5bfda",
   "metadata": {},
   "outputs": [],
   "source": [
    "# since the timestamp column divided into four other new columns ,we droping it\n",
    "df.drop(columns=[\"timestamp\"],inplace=True)"
   ]
  },
  {
   "cell_type": "code",
   "execution_count": 12,
   "id": "7151130e",
   "metadata": {},
   "outputs": [
    {
     "data": {
      "text/html": [
       "<div>\n",
       "<style scoped>\n",
       "    .dataframe tbody tr th:only-of-type {\n",
       "        vertical-align: middle;\n",
       "    }\n",
       "\n",
       "    .dataframe tbody tr th {\n",
       "        vertical-align: top;\n",
       "    }\n",
       "\n",
       "    .dataframe thead th {\n",
       "        text-align: right;\n",
       "    }\n",
       "</style>\n",
       "<table border=\"1\" class=\"dataframe\">\n",
       "  <thead>\n",
       "    <tr style=\"text-align: right;\">\n",
       "      <th></th>\n",
       "      <th>temp</th>\n",
       "      <th>humidity</th>\n",
       "      <th>ppm</th>\n",
       "      <th>day</th>\n",
       "      <th>month</th>\n",
       "      <th>year</th>\n",
       "      <th>time_from_midnight</th>\n",
       "    </tr>\n",
       "  </thead>\n",
       "  <tbody>\n",
       "    <tr>\n",
       "      <th>0</th>\n",
       "      <td>38</td>\n",
       "      <td>38</td>\n",
       "      <td>24.01</td>\n",
       "      <td>4</td>\n",
       "      <td>6</td>\n",
       "      <td>2023</td>\n",
       "      <td>646</td>\n",
       "    </tr>\n",
       "    <tr>\n",
       "      <th>1</th>\n",
       "      <td>38</td>\n",
       "      <td>36</td>\n",
       "      <td>22.39</td>\n",
       "      <td>4</td>\n",
       "      <td>6</td>\n",
       "      <td>2023</td>\n",
       "      <td>647</td>\n",
       "    </tr>\n",
       "    <tr>\n",
       "      <th>2</th>\n",
       "      <td>38</td>\n",
       "      <td>36</td>\n",
       "      <td>21.62</td>\n",
       "      <td>4</td>\n",
       "      <td>6</td>\n",
       "      <td>2023</td>\n",
       "      <td>648</td>\n",
       "    </tr>\n",
       "    <tr>\n",
       "      <th>3</th>\n",
       "      <td>38</td>\n",
       "      <td>36</td>\n",
       "      <td>21.62</td>\n",
       "      <td>4</td>\n",
       "      <td>6</td>\n",
       "      <td>2023</td>\n",
       "      <td>649</td>\n",
       "    </tr>\n",
       "    <tr>\n",
       "      <th>4</th>\n",
       "      <td>38</td>\n",
       "      <td>36</td>\n",
       "      <td>21.62</td>\n",
       "      <td>4</td>\n",
       "      <td>6</td>\n",
       "      <td>2023</td>\n",
       "      <td>650</td>\n",
       "    </tr>\n",
       "    <tr>\n",
       "      <th>...</th>\n",
       "      <td>...</td>\n",
       "      <td>...</td>\n",
       "      <td>...</td>\n",
       "      <td>...</td>\n",
       "      <td>...</td>\n",
       "      <td>...</td>\n",
       "      <td>...</td>\n",
       "    </tr>\n",
       "    <tr>\n",
       "      <th>10303</th>\n",
       "      <td>28</td>\n",
       "      <td>32</td>\n",
       "      <td>25.71</td>\n",
       "      <td>5</td>\n",
       "      <td>6</td>\n",
       "      <td>2023</td>\n",
       "      <td>171</td>\n",
       "    </tr>\n",
       "    <tr>\n",
       "      <th>10304</th>\n",
       "      <td>28</td>\n",
       "      <td>32</td>\n",
       "      <td>25.71</td>\n",
       "      <td>5</td>\n",
       "      <td>6</td>\n",
       "      <td>2023</td>\n",
       "      <td>172</td>\n",
       "    </tr>\n",
       "    <tr>\n",
       "      <th>10305</th>\n",
       "      <td>28</td>\n",
       "      <td>32</td>\n",
       "      <td>25.71</td>\n",
       "      <td>5</td>\n",
       "      <td>6</td>\n",
       "      <td>2023</td>\n",
       "      <td>173</td>\n",
       "    </tr>\n",
       "    <tr>\n",
       "      <th>10306</th>\n",
       "      <td>28</td>\n",
       "      <td>32</td>\n",
       "      <td>28.43</td>\n",
       "      <td>5</td>\n",
       "      <td>6</td>\n",
       "      <td>2023</td>\n",
       "      <td>174</td>\n",
       "    </tr>\n",
       "    <tr>\n",
       "      <th>10307</th>\n",
       "      <td>28</td>\n",
       "      <td>32</td>\n",
       "      <td>30.36</td>\n",
       "      <td>5</td>\n",
       "      <td>6</td>\n",
       "      <td>2023</td>\n",
       "      <td>175</td>\n",
       "    </tr>\n",
       "  </tbody>\n",
       "</table>\n",
       "<p>10308 rows × 7 columns</p>\n",
       "</div>"
      ],
      "text/plain": [
       "       temp  humidity    ppm  day  month  year  time_from_midnight\n",
       "0        38        38  24.01    4      6  2023                 646\n",
       "1        38        36  22.39    4      6  2023                 647\n",
       "2        38        36  21.62    4      6  2023                 648\n",
       "3        38        36  21.62    4      6  2023                 649\n",
       "4        38        36  21.62    4      6  2023                 650\n",
       "...     ...       ...    ...  ...    ...   ...                 ...\n",
       "10303    28        32  25.71    5      6  2023                 171\n",
       "10304    28        32  25.71    5      6  2023                 172\n",
       "10305    28        32  25.71    5      6  2023                 173\n",
       "10306    28        32  28.43    5      6  2023                 174\n",
       "10307    28        32  30.36    5      6  2023                 175\n",
       "\n",
       "[10308 rows x 7 columns]"
      ]
     },
     "execution_count": 12,
     "metadata": {},
     "output_type": "execute_result"
    }
   ],
   "source": [
    "#checking the data frame after droping the column\n",
    "df"
   ]
  },
  {
   "cell_type": "code",
   "execution_count": 13,
   "id": "4a91f39c",
   "metadata": {},
   "outputs": [
    {
     "data": {
      "text/plain": [
       "2023    10308\n",
       "Name: year, dtype: int64"
      ]
     },
     "execution_count": 13,
     "metadata": {},
     "output_type": "execute_result"
    }
   ],
   "source": [
    "#here we can observe that year column has only one year in the whole column which is not much required\n",
    "df['year'].value_counts()"
   ]
  },
  {
   "cell_type": "code",
   "execution_count": 14,
   "id": "8c0f42f1",
   "metadata": {},
   "outputs": [
    {
     "data": {
      "text/plain": [
       "6    10308\n",
       "Name: month, dtype: int64"
      ]
     },
     "execution_count": 14,
     "metadata": {},
     "output_type": "execute_result"
    }
   ],
   "source": [
    "#here we can observe that month column has only one month in the whole column which is not much required\n",
    "df['month'].value_counts()"
   ]
  },
  {
   "cell_type": "code",
   "execution_count": 24,
   "id": "2abe6e28",
   "metadata": {},
   "outputs": [
    {
     "data": {
      "text/plain": [
       "<AxesSubplot:>"
      ]
     },
     "execution_count": 24,
     "metadata": {},
     "output_type": "execute_result"
    },
    {
     "data": {
      "image/png": "[encoded data removed]",
      "text/plain": [
       "<Figure size 1080x720 with 2 Axes>"
      ]
     },
     "metadata": {
      "needs_background": "light"
     },
     "output_type": "display_data"
    }
   ],
   "source": [
    "#checking the correlation after adding the new columns\n",
    "correlation1=df.corr()\n",
    "\n",
    "plt.figure(figsize=(15,10))\n",
    "sns.heatmap(correlation1,annot=True,cmap='Greys')"
   ]
  },
  {
   "cell_type": "code",
   "execution_count": 25,
   "id": "f8140ba4",
   "metadata": {},
   "outputs": [],
   "source": [
    "#defining  the independent variables and dependent variable for training\n",
    "X=df[['temp', 'humidity','day','time_from_midnight']]\n",
    "y=df[\"ppm\"]"
   ]
  },
  {
   "cell_type": "code",
   "execution_count": 26,
   "id": "5448a35a",
   "metadata": {},
   "outputs": [],
   "source": [
    "#importing the train test split from sklearn modelselection\n",
    "from sklearn.model_selection import train_test_split\n"
   ]
  },
  {
   "cell_type": "code",
   "execution_count": 27,
   "id": "2368ca58",
   "metadata": {},
   "outputs": [],
   "source": [
    "#splitting the data in to training and testing using trin_test_split\n",
    "X_train, X_test, y_train, y_test = train_test_split(X, y, test_size=0.3, random_state=42)"
   ]
  },
  {
   "cell_type": "code",
   "execution_count": 28,
   "id": "7168eceb",
   "metadata": {},
   "outputs": [],
   "source": [
    "#importing randomforest algorithm from sklearn.ensemble to train dataset\n",
    "from sklearn.ensemble import RandomForestRegressor\n",
    "model=RandomForestRegressor(n_estimators=100)"
   ]
  },
  {
   "cell_type": "code",
   "execution_count": 29,
   "id": "b21a49cf",
   "metadata": {},
   "outputs": [
    {
     "data": {
      "text/plain": [
       "RandomForestRegressor()"
      ]
     },
     "execution_count": 29,
     "metadata": {},
     "output_type": "execute_result"
    }
   ],
   "source": [
    "#fitting the training data to algorithm so that it learns from relationships of data using best fit line\n",
    "model.fit(X_train,y_train)"
   ]
  },
  {
   "cell_type": "code",
   "execution_count": 30,
   "id": "aac9fde5",
   "metadata": {},
   "outputs": [],
   "source": [
    "#testing model using X_test so ,it predicts the values of y_test\n",
    "y_pred=model.predict(X_test)"
   ]
  },
  {
   "cell_type": "code",
   "execution_count": 35,
   "id": "a740a709",
   "metadata": {},
   "outputs": [
    {
     "data": {
      "text/plain": [
       "<matplotlib.collections.PathCollection at 0x1ece34b29d0>"
      ]
     },
     "execution_count": 35,
     "metadata": {},
     "output_type": "execute_result"
    },
    {
     "data": {
      "image/png": "[encoded data removed]",
      "text/plain": [
       "<Figure size 432x288 with 1 Axes>"
      ]
     },
     "metadata": {
      "needs_background": "light"
     },
     "output_type": "display_data"
    }
   ],
   "source": [
    "# scattering the points of predicted y_values and origianl y_values ,if all the points are formed near to each other \n",
    "#with high density then model found the best fit line well\n",
    "plt.scatter(y_pred,y_test,c='k')\n"
   ]
  },
  {
   "cell_type": "code",
   "execution_count": 37,
   "id": "0c82fa86",
   "metadata": {},
   "outputs": [
    {
     "name": "stderr",
     "output_type": "stream",
     "text": [
      "C:\\ProgramData\\Anaconda3\\lib\\site-packages\\seaborn\\distributions.py:2619: FutureWarning: `distplot` is a deprecated function and will be removed in a future version. Please adapt your code to use either `displot` (a figure-level function with similar flexibility) or `histplot` (an axes-level function for histograms).\n",
      "  warnings.warn(msg, FutureWarning)\n"
     ]
    },
    {
     "data": {
      "text/plain": [
       "<AxesSubplot:xlabel='ppm', ylabel='Density'>"
      ]
     },
     "execution_count": 37,
     "metadata": {},
     "output_type": "execute_result"
    },
    {
     "data": {
      "image/png": "[encoded data removed]",
      "text/plain": [
       "<Figure size 432x288 with 1 Axes>"
      ]
     },
     "metadata": {
      "needs_background": "light"
     },
     "output_type": "display_data"
    }
   ],
   "source": [
    "#visualizing the distribution of errors or residuals ,if the distribution is near to normal distribution,means that model fitted well\n",
    "sns.distplot(y_test-y_pred,kde=True)"
   ]
  },
  {
   "cell_type": "code",
   "execution_count": 38,
   "id": "f6a18693",
   "metadata": {},
   "outputs": [],
   "source": [
    "#importing the evaluation metrics for evaluating the model how it works\n",
    "from sklearn.metrics import mean_squared_error , mean_absolute_error,r2_score"
   ]
  },
  {
   "cell_type": "code",
   "execution_count": 39,
   "id": "92e2c788",
   "metadata": {},
   "outputs": [
    {
     "name": "stdout",
     "output_type": "stream",
     "text": [
      "mse: 12.169901819078563\n",
      "mae: 2.04364671839638\n",
      "r2: 0.9627558650027471\n"
     ]
    }
   ],
   "source": [
    "#checking all three important metrics scores\n",
    "print(\"mse:\",mean_squared_error(y_test,y_pred))\n",
    "print(\"mae:\",mean_absolute_error(y_test,y_pred))\n",
    "print(\"r2:\",r2_score(y_test,y_pred))"
   ]
  },
  {
   "cell_type": "code",
   "execution_count": 40,
   "id": "e3999f53",
   "metadata": {},
   "outputs": [],
   "source": [
    "#checking the importance of the features and seeing which feature contributes more\n",
    "feature_importance=pd.Series(model.feature_importances_,index=X.columns).sort_values(ascending=False)"
   ]
  },
  {
   "cell_type": "code",
   "execution_count": null,
   "id": "bca93d7a",
   "metadata": {},
   "outputs": [],
   "source": [
    "#checking the important features column wise rate\n",
    "feature_importance"
   ]
  },
  {
   "cell_type": "code",
   "execution_count": 41,
   "id": "b7b583c4",
   "metadata": {},
   "outputs": [
    {
     "data": {
      "image/png": "[encoded data removed]",
      "text/plain": [
       "<Figure size 720x360 with 1 Axes>"
      ]
     },
     "metadata": {
      "needs_background": "light"
     },
     "output_type": "display_data"
    }
   ],
   "source": [
    "#visualizing the imppoaratance of the features using barplot ,so visual representation can be understood by every one\n",
    "plt.figure(figsize=(10,5))\n",
    "sns.barplot(x=feature_importance,y=feature_importance.index)\n",
    "plt.xlabel(\"features contributed rate\")\n",
    "plt.ylabel(\"columns\")\n",
    "plt.title(\"feature_importance\")\n",
    "plt.show()"
   ]
  },
  {
   "cell_type": "code",
   "execution_count": null,
   "id": "0897cd51",
   "metadata": {},
   "outputs": [],
   "source": [
    "#from sklearn.linear_model import LinearRegression"
   ]
  },
  {
   "cell_type": "code",
   "execution_count": null,
   "id": "c8fe2805",
   "metadata": {},
   "outputs": [],
   "source": [
    "#lr=LinearRegression()\n",
    "#lr"
   ]
  },
  {
   "cell_type": "code",
   "execution_count": null,
   "id": "c972679b",
   "metadata": {},
   "outputs": [],
   "source": [
    "#lr.fit(X_train,y_train)"
   ]
  },
  {
   "cell_type": "code",
   "execution_count": null,
   "id": "06539b03",
   "metadata": {},
   "outputs": [],
   "source": [
    "#coefficients=pd.DataFrame(lr.coef_,columns=['coefficients_of_each_feature'],index=X.columns)"
   ]
  },
  {
   "cell_type": "code",
   "execution_count": null,
   "id": "1701554f",
   "metadata": {},
   "outputs": [],
   "source": [
    "#coefficients"
   ]
  },
  {
   "cell_type": "code",
   "execution_count": null,
   "id": "97193919",
   "metadata": {},
   "outputs": [],
   "source": [
    "#lr.intercept_"
   ]
  },
  {
   "cell_type": "code",
   "execution_count": null,
   "id": "b516188c",
   "metadata": {},
   "outputs": [],
   "source": [
    "#y_pred1=lr.predict(X_test)"
   ]
  },
  {
   "cell_type": "code",
   "execution_count": null,
   "id": "fedbd85c",
   "metadata": {},
   "outputs": [],
   "source": [
    "#y_pred1"
   ]
  },
  {
   "cell_type": "code",
   "execution_count": null,
   "id": "c3ecab01",
   "metadata": {},
   "outputs": [],
   "source": [
    "#y_test"
   ]
  },
  {
   "cell_type": "code",
   "execution_count": null,
   "id": "0400d308",
   "metadata": {},
   "outputs": [],
   "source": [
    "#plt.scatter(y_pred1,y_test)"
   ]
  },
  {
   "cell_type": "code",
   "execution_count": null,
   "id": "d1bee36c",
   "metadata": {},
   "outputs": [],
   "source": [
    "#r2_score(y_pred1,y_test)"
   ]
  },
  {
   "cell_type": "code",
   "execution_count": null,
   "id": "8be1d8a9",
   "metadata": {},
   "outputs": [],
   "source": []
  }
 ],
 "metadata": {
  "kernelspec": {
   "display_name": "Python 3 (ipykernel)",
   "language": "python",
   "name": "python3"
  },
  "language_info": {
   "codemirror_mode": {
    "name": "ipython",
    "version": 3
   },
   "file_extension": ".py",
   "mimetype": "text/x-python",
   "name": "python",
   "nbconvert_exporter": "python",
   "pygments_lexer": "ipython3",
   "version": "3.9.12"
  }
 },
 "nbformat": 4,
 "nbformat_minor": 5
}
